{
 "cells": [
  {
   "cell_type": "code",
   "execution_count": 1,
   "metadata": {},
   "outputs": [],
   "source": [
    "global appointments #dictionary of key (name) and value (time) pairs\n",
    "global appt_times #list of current appointment times for the Doctor\n",
    "global patients #info about patient name and age\n",
    "\n",
    "appointments = {}\n",
    "appt_times = []\n",
    "patients ={}"
   ]
  },
  {
   "cell_type": "code",
   "execution_count": 2,
   "metadata": {},
   "outputs": [],
   "source": [
    "class Patient():\n",
    "    \n",
    "    def __init__(self):\n",
    "        self.name = str(input(\"Input patient name: \"))\n",
    "        self.age = int(input(\"Input patient age: \"))\n",
    "    \n",
    "    def return_name(self):\n",
    "        return self.name\n",
    "    def return_age(self):\n",
    "        return self.age"
   ]
  },
  {
   "cell_type": "code",
   "execution_count": 3,
   "metadata": {},
   "outputs": [],
   "source": [
    "class Doctor():\n",
    "    \n",
    "    def __init__(self,min_time,max_time):\n",
    "        self.min_time = 800 #doctor schedule\n",
    "        self.max_time = 1700"
   ]
  },
  {
   "cell_type": "code",
   "execution_count": 4,
   "metadata": {},
   "outputs": [],
   "source": [
    "def times_available():\n",
    "    \n",
    "    while True:\n",
    "        time = int(input(\"Input appointment time: \"))\n",
    "\n",
    "        if time in range(800,1700,50):\n",
    "            if time in appt_times:\n",
    "                print(\"Time is unavailable. Appointment scheduled for that time.\")\n",
    "                print(\"Times available: \")\n",
    "                for times in range(800,1700,50):\n",
    "                    if (times not in appt_times) and (times != 1200 and times != 1250):\n",
    "                        print(times)\n",
    "                        continue\n",
    "            elif (time != 1200 and time != 1250) and (time >= 800 and time <= 1700):\n",
    "                appt_times.append(time)\n",
    "                return time\n",
    "                break\n",
    "            else:\n",
    "                print(\"Unavailable. Lunch is from 12-1pm.\")\n",
    "                continue"
   ]
  },
  {
   "cell_type": "code",
   "execution_count": 5,
   "metadata": {},
   "outputs": [],
   "source": [
    "def appt_time(name,time):\n",
    "    appointments[name] = time"
   ]
  },
  {
   "cell_type": "code",
   "execution_count": 6,
   "metadata": {},
   "outputs": [],
   "source": [
    "def patient_info(name,age):\n",
    "    patients[name] = age"
   ]
  },
  {
   "cell_type": "code",
   "execution_count": 70,
   "metadata": {},
   "outputs": [],
   "source": [
    "def print_appt_info():\n",
    "    print(\"Patient names and ages: \")\n",
    "    print(patients)\n",
    "    \n",
    "    print(\"\\nPatient times: \")\n",
    "    print(\"{}\\n\".format(appointments))"
   ]
  },
  {
   "cell_type": "code",
   "execution_count": 72,
   "metadata": {},
   "outputs": [
    {
     "name": "stdout",
     "output_type": "stream",
     "text": [
      "Patient names and ages: \n",
      "{'Josie': 26, 'Rob': 44, 'Vik': 38}\n",
      "\n",
      "Patient times: \n",
      "{1000: 'Josie', 1300: 'Rob', 1650: 'Vik'}\n",
      "\n",
      "dict_keys(['Josie', 'Rob', 'Vik'])\n"
     ]
    }
   ],
   "source": [
    "print_appt_info()"
   ]
  },
  {
   "cell_type": "markdown",
   "metadata": {},
   "source": [
    "#INPUT PATIENT INFO\n",
    "for i in range(1,6):\n",
    "    patient_info(patient[i].return_name,patient[i].return_age)\n",
    "\n",
    "print(patients)"
   ]
  },
  {
   "cell_type": "code",
   "execution_count": 8,
   "metadata": {},
   "outputs": [
    {
     "name": "stdout",
     "output_type": "stream",
     "text": [
      "How many patients are scheduled for today? 3\n",
      "Input patient name: Josie\n",
      "Input patient age: 26\n",
      "Input patient name: Rob\n",
      "Input patient age: 44\n",
      "Input patient name: Vik\n",
      "Input patient age: 38\n",
      "Input appointment time: 1000\n",
      "Input appointment time: 1200\n",
      "Unavailable. Lunch is from 12-1pm.\n",
      "Input appointment time: 1300\n",
      "Input appointment time: 1650\n",
      "{1000: 'Josie', 1300: 'Rob', 1650: 'Vik'}\n",
      "{'Josie': 26, 'Rob': 44, 'Vik': 38}\n"
     ]
    }
   ],
   "source": [
    "#COMPILE CODE\n",
    "#INITIALIZE VARIABLES\n",
    "doctor = Doctor(800,1700)\n",
    "patient_names = []\n",
    "patient_ages = []\n",
    "\n",
    "#INITIALIZE PATIENTS\n",
    "num_of_patients = int(input(\"How many patients are scheduled for today? \"))\n",
    "\n",
    "for i in range(0,num_of_patients):\n",
    "    patient = Patient()\n",
    "    patient_names.append(patient.return_name())\n",
    "    patient_ages.append(patient.return_age())\n",
    "    \n",
    "#print(patient_names)\n",
    "#print(patient_ages)\n",
    "\n",
    "#INPUT PATIENT INFO IN APPOINTMENTS and PATIENTS LIST\n",
    "for i in range(0,num_of_patients):\n",
    "    appt_time(times_available(),patient_names[i])\n",
    "    patient_info(patient_names[i],patient_ages[i])\n",
    "\n",
    "print_appt_info()"
   ]
  }
 ],
 "metadata": {
  "kernelspec": {
   "display_name": "Python 3",
   "language": "python",
   "name": "python3"
  },
  "language_info": {
   "codemirror_mode": {
    "name": "ipython",
    "version": 3
   },
   "file_extension": ".py",
   "mimetype": "text/x-python",
   "name": "python",
   "nbconvert_exporter": "python",
   "pygments_lexer": "ipython3",
   "version": "3.7.4"
  }
 },
 "nbformat": 4,
 "nbformat_minor": 2
}
