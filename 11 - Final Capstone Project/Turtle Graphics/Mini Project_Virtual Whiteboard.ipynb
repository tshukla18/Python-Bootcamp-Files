{
 "cells": [
  {
   "cell_type": "code",
   "execution_count": 2,
   "metadata": {},
   "outputs": [],
   "source": [
    "import turtle\n",
    "global turtle_position"
   ]
  },
  {
   "cell_type": "code",
   "execution_count": 3,
   "metadata": {},
   "outputs": [],
   "source": [
    "def go_to_position(turtle,x,y):\n",
    "    turtle.penup()\n",
    "    turtle.goto(x,y)\n",
    "    turtle.pendown()"
   ]
  },
  {
   "cell_type": "code",
   "execution_count": 4,
   "metadata": {},
   "outputs": [],
   "source": [
    "#USER 1: PURPLE FUNCTIONS"
   ]
  },
  {
   "cell_type": "code",
   "execution_count": 5,
   "metadata": {},
   "outputs": [],
   "source": [
    "def square1(turtle):\n",
    "    turtle.left(180)\n",
    "    turtle.forward(100)\n",
    "    turtle.right(90)\n",
    "    turtle.forward(100)\n",
    "    turtle.right(90)\n",
    "    turtle.forward(100)\n",
    "    turtle.right(90)\n",
    "    turtle.forward(100)"
   ]
  },
  {
   "cell_type": "code",
   "execution_count": 6,
   "metadata": {},
   "outputs": [],
   "source": [
    "def triangle1(turtle):\n",
    "    turtle.right(90)\n",
    "    turtle.forward(200)\n",
    "    turtle.right(135)\n",
    "    turtle.forward(280)\n",
    "    turtle.right(135)\n",
    "    turtle.forward(210)"
   ]
  },
  {
   "cell_type": "code",
   "execution_count": 7,
   "metadata": {},
   "outputs": [],
   "source": [
    "#USER 2: GREEN FUNCTIONS"
   ]
  },
  {
   "cell_type": "code",
   "execution_count": 8,
   "metadata": {},
   "outputs": [],
   "source": [
    "def square2(turtle):\n",
    "    turtle.forward(100)\n",
    "    turtle.right(90)\n",
    "    turtle.forward(100)\n",
    "    turtle.right(90)\n",
    "    turtle.forward(100)\n",
    "    turtle.right(90)\n",
    "    turtle.forward(100)"
   ]
  },
  {
   "cell_type": "code",
   "execution_count": 9,
   "metadata": {},
   "outputs": [],
   "source": [
    "def triangle2(turtle):\n",
    "    turtle.right(90)\n",
    "    turtle.forward(200)\n",
    "    turtle.right(135)\n",
    "    turtle.forward(280)\n",
    "    turtle.right(135)\n",
    "    turtle.forward(210)"
   ]
  },
  {
   "cell_type": "code",
   "execution_count": 10,
   "metadata": {},
   "outputs": [],
   "source": [
    "#USER 3: BLUE FUNCTIONS"
   ]
  },
  {
   "cell_type": "code",
   "execution_count": 11,
   "metadata": {},
   "outputs": [],
   "source": [
    "def square3(turtle):\n",
    "    turtle.forward(100)\n",
    "    turtle.left(90)\n",
    "    turtle.forward(100)\n",
    "    turtle.left(90)\n",
    "    turtle.forward(100)\n",
    "    turtle.left(90)\n",
    "    turtle.forward(100)"
   ]
  },
  {
   "cell_type": "code",
   "execution_count": 12,
   "metadata": {},
   "outputs": [],
   "source": [
    "#USER 4: BLUE FUNCTIONS"
   ]
  },
  {
   "cell_type": "code",
   "execution_count": 13,
   "metadata": {},
   "outputs": [],
   "source": [
    "def square4(turtle):\n",
    "    turtle.forward(100)\n",
    "    turtle.left(90)\n",
    "    turtle.forward(100)\n",
    "    turtle.left(90)\n",
    "    turtle.forward(100)\n",
    "    turtle.left(90)\n",
    "    turtle.forward(100)"
   ]
  },
  {
   "cell_type": "code",
   "execution_count": 14,
   "metadata": {},
   "outputs": [],
   "source": [
    "screen = turtle.Screen()\n",
    "screen.bgcolor(\"black\")\n",
    "turtle1 = turtle.Turtle()\n",
    "turtle2 = turtle.Turtle()\n",
    "turtle3 = turtle.Turtle()\n",
    "turtle4 = turtle.Turtle()\n",
    "\n",
    "turtle1.pencolor('purple')\n",
    "turtle2.pencolor('green')\n",
    "turtle3.pencolor('blue')\n",
    "turtle4.pencolor('orange')\n",
    "    \n",
    "#TURTLE 1\n",
    "turtle1.stamp()\n",
    "square1(turtle1)\n",
    "\n",
    "go_to_position(turtle1,-100,100)\n",
    "\n",
    "turtle1.stamp()\n",
    "triangle1(turtle1)\n",
    "\n",
    "#TURTLE 2\n",
    "turtle2.stamp()\n",
    "square2(turtle2)\n",
    "\n",
    "go_to_position(turtle2,100,-100)\n",
    "\n",
    "turtle2.stamp()\n",
    "triangle2(turtle2)\n",
    "\n",
    "#TURTLE 3\n",
    "t3x = 0 #x position\n",
    "t3y = 100 #y position\n",
    "\n",
    "for i in range(6):\n",
    "    go_to_position(turtle3,t3x,t3y)\n",
    "    square3(turtle3)\n",
    "    \n",
    "    if t3x == 0:\n",
    "        t3y = t3x\n",
    "        t3x = 100\n",
    "    elif t3y == 0:\n",
    "        t3y = 200\n",
    "    elif t3x == 100 and t3y == 200:\n",
    "        t3x = -t3x\n",
    "    elif t3x == -100 and t3y == 200:\n",
    "        t3x = 200\n",
    "        t3y = 100\n",
    "    elif t3y == 100:\n",
    "        t3y = -t3y\n",
    "    \n",
    "    turtle3.left(90)\n",
    "\n",
    "#TURTLE 4\n",
    "turtle4.left(180) \n",
    "go_to_position(turtle4,-100,0) \n",
    "square4(turtle4)\n",
    "\n",
    "turtle4.left(90) \n",
    "go_to_position(turtle4,-200,100) \n",
    "square4(turtle4)\n",
    "\n",
    "turtle4.left(90) \n",
    "go_to_position(turtle4,-200,-100) \n",
    "square4(turtle4)\n",
    "\n",
    "turtle4.left(90) \n",
    "go_to_position(turtle4,0,-100) \n",
    "square4(turtle4)\n",
    "\n",
    "turtle4.left(90) \n",
    "go_to_position(turtle4,-100,-200) \n",
    "square4(turtle4)\n",
    "\n",
    "turtle4.left(90) \n",
    "go_to_position(turtle4,100,-200) \n",
    "square4(turtle4)\n",
    "\n",
    "turtle.done()"
   ]
  }
 ],
 "metadata": {
  "kernelspec": {
   "display_name": "Python 3",
   "language": "python",
   "name": "python3"
  },
  "language_info": {
   "codemirror_mode": {
    "name": "ipython",
    "version": 3
   },
   "file_extension": ".py",
   "mimetype": "text/x-python",
   "name": "python",
   "nbconvert_exporter": "python",
   "pygments_lexer": "ipython3",
   "version": "3.7.4"
  }
 },
 "nbformat": 4,
 "nbformat_minor": 2
}
