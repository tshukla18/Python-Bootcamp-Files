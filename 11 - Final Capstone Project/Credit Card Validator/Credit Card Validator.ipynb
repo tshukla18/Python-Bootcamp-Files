{
 "cells": [
  {
   "cell_type": "code",
   "execution_count": 68,
   "metadata": {},
   "outputs": [],
   "source": [
    "#USER INPUT\n",
    "\n",
    "def user_card_num():\n",
    "    try:\n",
    "        card_num = str(input(\"Input a credit card number: \"))\n",
    "    except:\n",
    "        print(\"ERROR: Not all values are integers! \")\n",
    "    \n",
    "    if len(card_num) != 16:\n",
    "        print(\"ERROR: Not a 16-digit value!\")\n",
    "    else:\n",
    "        return card_num"
   ]
  },
  {
   "cell_type": "code",
   "execution_count": 70,
   "metadata": {},
   "outputs": [
    {
     "name": "stdout",
     "output_type": "stream",
     "text": [
      "Input a credit card number: 3530111333300001\n"
     ]
    },
    {
     "data": {
      "text/plain": [
       "'3530111333300001'"
      ]
     },
     "execution_count": 70,
     "metadata": {},
     "output_type": "execute_result"
    }
   ],
   "source": [
    "user_card_num()"
   ]
  },
  {
   "cell_type": "code",
   "execution_count": 62,
   "metadata": {},
   "outputs": [],
   "source": [
    "def check_sum(num):\n",
    "    #'num' parameter is STRING type\n",
    "    list_of_num = list(num)\n",
    "    last_num = int(list_of_num[-1])\n",
    "    sumOfNums = 0\n",
    "    j = 0\n",
    "    \n",
    "    #ITERATE THROUGH EVEN INDEX VALUES\n",
    "    #DOUBLE THOSE VALUES\n",
    "    #ADD DIGITS IF DOUBLE-DIGIT INTEGER\n",
    "    while j < 15:\n",
    "        int_num_element = int(list_of_num[j])*2\n",
    "        if int_num_element >= 10:\n",
    "            string_num_element = str(int_num_element)\n",
    "            #string_num1 = string_num_element[0]\n",
    "            #string_num2 = string_num_element[1]\n",
    "            \n",
    "            two_digit_sum = int(string_num_element[0]) + int(string_num_element[1])\n",
    "            list_of_num[j] = two_digit_sum\n",
    "        else:\n",
    "            list_of_num[j] = int_num_element\n",
    "        \n",
    "        j+=2\n",
    "    \n",
    "    #GIVES INTEGER OF NEW LIST_OF_NUMS\n",
    "    string_list = [str(i) for i in list_of_num]\n",
    "    new_num = int(\"\".join(string_list))\n",
    "    \n",
    "    #ADD INT VALUES IN NEW_NUM\n",
    "    list_of_num.pop()\n",
    "    for num in list_of_num:\n",
    "        sumOfNums = sumOfNums + int(num)\n",
    "    \n",
    "    #FINAL SUM: MUST BE A MULTIPLE OF 10\n",
    "    sumWithLastDigit = sumOfNums + last_num\n",
    "    \n",
    "    if sumWithLastDigit % 10 == 0:\n",
    "        print(\"Card is validated!\")\n",
    "    else:\n",
    "        print(\"Card is NOT validated!\")\n",
    "\n",
    "    #returns INT num\n",
    "    print (\"\\nSum: {}\\nSum and Last Digit: {}\".format(sumOfNums,sumWithLastDigit))"
   ]
  },
  {
   "cell_type": "code",
   "execution_count": 67,
   "metadata": {},
   "outputs": [
    {
     "name": "stdout",
     "output_type": "stream",
     "text": [
      "Card is validated!\n",
      "\n",
      "Sum: 69\n",
      "Sum and Last Digit: 70\n"
     ]
    }
   ],
   "source": [
    "check_sum('457842301376921')"
   ]
  },
  {
   "cell_type": "code",
   "execution_count": 64,
   "metadata": {},
   "outputs": [
    {
     "name": "stdout",
     "output_type": "stream",
     "text": [
      "Input a 16-digit credit card number: 6011000991300009\n",
      "Card is validated!\n",
      "\n",
      "Sum: 31\n",
      "Sum and Last Digit: 40\n"
     ]
    }
   ],
   "source": [
    "# CREDIT CARD VALIDATOR\n",
    "\n",
    "cardNum = user_card_num()\n",
    "\n",
    "check_sum(cardNum)"
   ]
  },
  {
   "cell_type": "code",
   "execution_count": 65,
   "metadata": {},
   "outputs": [
    {
     "name": "stdout",
     "output_type": "stream",
     "text": [
      "Input a 16-digit credit card number: 3530111333300001\n",
      "Card is NOT validated!\n",
      "\n",
      "Sum: 40\n",
      "Sum and Last Digit: 41\n"
     ]
    }
   ],
   "source": [
    "cardNum = user_card_num()\n",
    "\n",
    "check_sum(cardNum)"
   ]
  },
  {
   "cell_type": "code",
   "execution_count": null,
   "metadata": {},
   "outputs": [],
   "source": []
  }
 ],
 "metadata": {
  "kernelspec": {
   "display_name": "Python 3",
   "language": "python",
   "name": "python3"
  },
  "language_info": {
   "codemirror_mode": {
    "name": "ipython",
    "version": 3
   },
   "file_extension": ".py",
   "mimetype": "text/x-python",
   "name": "python",
   "nbconvert_exporter": "python",
   "pygments_lexer": "ipython3",
   "version": "3.7.4"
  }
 },
 "nbformat": 4,
 "nbformat_minor": 2
}
