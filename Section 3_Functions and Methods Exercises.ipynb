{
 "cells": [
  {
   "cell_type": "code",
   "execution_count": 1,
   "metadata": {},
   "outputs": [],
   "source": [
    "#1) Write a function that computes the volume of a sphere given its radius.\n",
    "\n",
    "#volume of sphere: 4/3*pi*r^3"
   ]
  },
  {
   "cell_type": "code",
   "execution_count": 7,
   "metadata": {},
   "outputs": [],
   "source": [
    "import math\n",
    "\n",
    "def vol(rad):\n",
    "    return ((4/3)*(math.pi)*(rad**3))"
   ]
  },
  {
   "cell_type": "code",
   "execution_count": 8,
   "metadata": {},
   "outputs": [
    {
     "data": {
      "text/plain": [
       "33.510321638291124"
      ]
     },
     "execution_count": 8,
     "metadata": {},
     "output_type": "execute_result"
    }
   ],
   "source": [
    "# Check\n",
    "vol(2)"
   ]
  },
  {
   "cell_type": "code",
   "execution_count": 19,
   "metadata": {},
   "outputs": [],
   "source": [
    "#2) Write a function that checks whether a number is in a given range (inclusive of high and low)"
   ]
  },
  {
   "cell_type": "code",
   "execution_count": 22,
   "metadata": {},
   "outputs": [],
   "source": [
    "def ran_check(num,low,high):\n",
    "    if num >= low and num <= high:\n",
    "        print(f\"{num} is in the range between {low} and {high}\")\n",
    "    else:\n",
    "        print(f\"{num} is NOT in the range between {low} and {high}\")"
   ]
  },
  {
   "cell_type": "code",
   "execution_count": 24,
   "metadata": {},
   "outputs": [
    {
     "name": "stdout",
     "output_type": "stream",
     "text": [
      "9 is NOT in the range between 2 and 7\n"
     ]
    }
   ],
   "source": [
    "# Check\n",
    "ran_check(9,2,7)"
   ]
  },
  {
   "cell_type": "code",
   "execution_count": null,
   "metadata": {},
   "outputs": [],
   "source": [
    "#3) Write a Python function that accepts a string and calculates the number of upper case letters and lower case letters"
   ]
  },
  {
   "cell_type": "code",
   "execution_count": 21,
   "metadata": {},
   "outputs": [],
   "source": [
    "def up_low(s):\n",
    "    upperChar = 0\n",
    "    lowerChar = 0\n",
    "    \n",
    "    for char in s:\n",
    "        if char.isupper():\n",
    "            upperChar+=1\n",
    "        elif char.islower():\n",
    "            lowerChar+=1\n",
    "        elif char == ' ':\n",
    "            pass\n",
    "            \n",
    "    print(f'Original String: {s}\\nNo. of Upper case characters: {upperChar}\\nNo. of Lower case characters: {lowerChar}')"
   ]
  },
  {
   "cell_type": "code",
   "execution_count": 22,
   "metadata": {},
   "outputs": [
    {
     "name": "stdout",
     "output_type": "stream",
     "text": [
      "Original String: Hello Mr. Rogers, how are you this fine Tuesday?\n",
      "No. of Upper case characters: 4\n",
      "No. of Lower case characters: 33\n"
     ]
    }
   ],
   "source": [
    "s = 'Hello Mr. Rogers, how are you this fine Tuesday?'\n",
    "up_low(s)"
   ]
  },
  {
   "cell_type": "code",
   "execution_count": 25,
   "metadata": {},
   "outputs": [],
   "source": [
    "#4) Write a Python function that takes a list and returns a new list with unique elements of the first list"
   ]
  },
  {
   "cell_type": "code",
   "execution_count": 36,
   "metadata": {},
   "outputs": [],
   "source": [
    "def unique_list(lst):\n",
    "    newList = []\n",
    "    \n",
    "    for num in lst:\n",
    "        if num in newList:\n",
    "            pass\n",
    "        else:\n",
    "            newList.append(num)\n",
    "            \n",
    "    return newList"
   ]
  },
  {
   "cell_type": "code",
   "execution_count": 37,
   "metadata": {},
   "outputs": [
    {
     "data": {
      "text/plain": [
       "[1, 2, 3, 4, 5]"
      ]
     },
     "execution_count": 37,
     "metadata": {},
     "output_type": "execute_result"
    }
   ],
   "source": [
    "unique_list([1,1,1,1,2,2,3,3,3,3,4,5])"
   ]
  },
  {
   "cell_type": "code",
   "execution_count": 38,
   "metadata": {},
   "outputs": [],
   "source": [
    "#5) Write a Python function to multiply all the numbers in a list"
   ]
  },
  {
   "cell_type": "code",
   "execution_count": 39,
   "metadata": {},
   "outputs": [],
   "source": [
    "def multiply(numbers):\n",
    "    multipliedNums = 1\n",
    "    \n",
    "    for num in numbers:\n",
    "        multipliedNums = multipliedNums*num\n",
    "        \n",
    "    return multipliedNums"
   ]
  },
  {
   "cell_type": "code",
   "execution_count": 40,
   "metadata": {},
   "outputs": [
    {
     "data": {
      "text/plain": [
       "-24"
      ]
     },
     "execution_count": 40,
     "metadata": {},
     "output_type": "execute_result"
    }
   ],
   "source": [
    "multiply([1,2,3,-4])"
   ]
  },
  {
   "cell_type": "code",
   "execution_count": 26,
   "metadata": {},
   "outputs": [],
   "source": [
    "#6) Write a Python function that checks whether a passed in string is a palindrome or not\n",
    "# **Note: A palindrome is word, phrase, or sequence that reads the same backward as forward, e.g., madam or nurses run**"
   ]
  },
  {
   "cell_type": "code",
   "execution_count": 3,
   "metadata": {},
   "outputs": [],
   "source": [
    "def palindrome(s):\n",
    "    i = -1\n",
    "    firstWord = \"\"\n",
    "    secondWord = \"\"\n",
    "    \n",
    "    for char in s:\n",
    "        \n",
    "        if \" \" in s:\n",
    "            s.replace(\" \",\"\")\n",
    "        elif len(s) % 2 == 0:\n",
    "            if abs(i) < len(s)/2:\n",
    "                if char == s[i]:\n",
    "                    i = i - 1\n",
    "                else:\n",
    "                    return False\n",
    "                    break\n",
    "        else:\n",
    "            if abs(i) < len(s)/2: #less than the fraction result (ie. 5/2 = 2.5)\n",
    "                if char == s[i]:\n",
    "                    i = i - 1\n",
    "                else:\n",
    "                    return False\n",
    "                    break\n",
    "    return True"
   ]
  },
  {
   "cell_type": "code",
   "execution_count": 4,
   "metadata": {},
   "outputs": [
    {
     "data": {
      "text/plain": [
       "True"
      ]
     },
     "execution_count": 4,
     "metadata": {},
     "output_type": "execute_result"
    }
   ],
   "source": [
    "palindrome('helleh')"
   ]
  },
  {
   "cell_type": "code",
   "execution_count": 6,
   "metadata": {},
   "outputs": [
    {
     "data": {
      "text/plain": [
       "False"
      ]
     },
     "execution_count": 6,
     "metadata": {},
     "output_type": "execute_result"
    }
   ],
   "source": [
    "palindrome('madap')"
   ]
  },
  {
   "cell_type": "code",
   "execution_count": 38,
   "metadata": {},
   "outputs": [
    {
     "data": {
      "text/plain": [
       "'hello good bye'"
      ]
     },
     "execution_count": 38,
     "metadata": {},
     "output_type": "execute_result"
    }
   ],
   "source": [
    "string.strip()"
   ]
  },
  {
   "cell_type": "code",
   "execution_count": 30,
   "metadata": {},
   "outputs": [
    {
     "data": {
      "text/plain": [
       "8"
      ]
     },
     "execution_count": 30,
     "metadata": {},
     "output_type": "execute_result"
    }
   ],
   "source": [
    "len(s)"
   ]
  },
  {
   "cell_type": "code",
   "execution_count": 7,
   "metadata": {},
   "outputs": [],
   "source": [
    "#7) Write a Python function to check whether a string is pangram or not\n",
    "# **Note : Pangrams are words or sentences containing every letter of the alphabet at least once**"
   ]
  },
  {
   "cell_type": "code",
   "execution_count": 27,
   "metadata": {},
   "outputs": [],
   "source": [
    "import string\n",
    "\n",
    "def ispangram(str1, alphabet=string.ascii_lowercase):\n",
    "    str1.replace(\" \",\"\")\n",
    "    stringLowerCase = str1.lower()\n",
    "    \n",
    "    for char in alphabet:\n",
    "        if char in stringLowerCase:\n",
    "            continue\n",
    "        else:\n",
    "            return False\n",
    "            break\n",
    "        \n",
    "    return True"
   ]
  },
  {
   "cell_type": "code",
   "execution_count": 29,
   "metadata": {},
   "outputs": [
    {
     "data": {
      "text/plain": [
       "False"
      ]
     },
     "execution_count": 29,
     "metadata": {},
     "output_type": "execute_result"
    }
   ],
   "source": [
    "ispangram(\"The quick brown box jumps over the lazy dog\")"
   ]
  },
  {
   "cell_type": "code",
   "execution_count": 26,
   "metadata": {},
   "outputs": [
    {
     "data": {
      "text/plain": [
       "'Thequickbrownfoxjumpsoverthelazydog'"
      ]
     },
     "execution_count": 26,
     "metadata": {},
     "output_type": "execute_result"
    }
   ],
   "source": [
    "str1 = \"The quick brown fox jumps over the lazy dog\"\n",
    "str1.replace(\" \",\"\")"
   ]
  }
 ],
 "metadata": {
  "kernelspec": {
   "display_name": "Python 3",
   "language": "python",
   "name": "python3"
  },
  "language_info": {
   "codemirror_mode": {
    "name": "ipython",
    "version": 3
   },
   "file_extension": ".py",
   "mimetype": "text/x-python",
   "name": "python",
   "nbconvert_exporter": "python",
   "pygments_lexer": "ipython3",
   "version": "3.7.4"
  }
 },
 "nbformat": 4,
 "nbformat_minor": 2
}
